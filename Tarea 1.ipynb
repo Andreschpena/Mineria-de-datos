{
 "cells": [
  {
   "cell_type": "code",
   "execution_count": 11,
   "metadata": {},
   "outputs": [
    {
     "name": "stdout",
     "output_type": "stream",
     "text": [
      "Introduce tu matrícula: 1941534\n",
      "Introduce tu nombre: Andres\n",
      "Andres 1941534\n"
     ]
    }
   ],
   "source": [
    "#Ejercicio 1\n",
    "#Realiza una variable con tu matricula y realiza una secuencia de imprimir con tu nombre y tu matricula concatenados.\n",
    "Mat = int(input(\"Introduce tu matrícula: \"))\n",
    "Nombre = input(\"Introduce tu nombre: \")\n",
    "print (Nombre, Mat)"
   ]
  },
  {
   "cell_type": "code",
   "execution_count": 6,
   "metadata": {},
   "outputs": [
    {
     "name": "stdout",
     "output_type": "stream",
     "text": [
      "ingresa un número: 5\n",
      "ingresa otro número: 6\n",
      "La suma es:  11.0\n",
      "La resta es:  -1.0\n",
      "La división es:  0.8333333333333334\n",
      "El producto es:  30.0\n"
     ]
    }
   ],
   "source": [
    "#Ejercicio 2\n",
    "#Pidiendo el input del usuario pide dos números y crea una pequeña calculadora con los operadores básicos de suma, resta, multiplicación, división, y exponente.\n",
    "a = float(input(\"ingresa un número: \"))\n",
    "b = float(input(\"ingresa otro número: \"))\n",
    "c = a+b\n",
    "d = a-b\n",
    "e = a/b\n",
    "f = a*b\n",
    "print(\"La suma es: \",c)\n",
    "print(\"La resta es: \",d)\n",
    "print(\"La división es: \",e)\n",
    "print(\"El producto es: \",f)"
   ]
  },
  {
   "cell_type": "code",
   "execution_count": 9,
   "metadata": {},
   "outputs": [
    {
     "name": "stdout",
     "output_type": "stream",
     "text": [
      "3\n",
      "6\n",
      "9\n",
      "12\n",
      "15\n",
      "18\n",
      "21\n",
      "24\n",
      "27\n",
      "30\n",
      "La suma de los numeros es:  165\n"
     ]
    }
   ],
   "source": [
    "#Ejercicio 3\n",
    "#Con loop while o for, realiza una lista de 10 numeros multiplos de 3, y después realiza una función de loop que sume todos los números dentro del arreglo.\n",
    "a = 1\n",
    "s = 0\n",
    "for i in range (1,11):\n",
    "    x = i*3\n",
    "    s = s+x\n",
    "    print(x)\n",
    "print (\"La suma de los numeros es: \", s)"
   ]
  },
  {
   "cell_type": "code",
   "execution_count": 25,
   "metadata": {},
   "outputs": [
    {
     "name": "stdout",
     "output_type": "stream",
     "text": [
      "Introduce un número: 12\n",
      "12 si es par\n",
      "divisor: 2\n",
      "divisor: 3\n",
      "divisor: 4\n",
      "divisor: 6\n",
      "El número no es primo\n"
     ]
    }
   ],
   "source": [
    "#Ejercicio 4\n",
    "#Con una función de if else, revisar si un número es par o es impar.\n",
    "#Con una función de if else, revisar si un número es primo o no.\n",
    "a = int(input(\"Introduce un número: \"))\n",
    "if a%2 != 0:\n",
    "    print(a, \"no es un par\")\n",
    "else:\n",
    "    print(a, \"si es par\")\n",
    "    \n",
    "valor= range(2,a)\n",
    "contador = 0\n",
    "for n in valor:\n",
    "  if a % n == 0:\n",
    "    contador +=1\n",
    "    print(\"divisor:\", n)\n",
    " \n",
    "if contador > 0 :\n",
    "  print(\"El número no es primo\" )\n",
    "else:\n",
    "  print(\"El número es primo\")"
   ]
  },
  {
   "cell_type": "code",
   "execution_count": 16,
   "metadata": {},
   "outputs": [
    {
     "name": "stdout",
     "output_type": "stream",
     "text": [
      "Enter first number: 5\n",
      "Enter second number: 7\n",
      "0. Exit\n",
      "1. Add\n",
      "2. Subtraction\n",
      "3. Multiplication\n",
      "4. Division\n",
      "Enter choice: 1\n",
      "Result:  12\n",
      "0. Exit\n",
      "1. Add\n",
      "2. Subtraction\n",
      "3. Multiplication\n",
      "4. Division\n",
      "Enter choice: 4\n",
      "Result:  0.71\n",
      "0. Exit\n",
      "1. Add\n",
      "2. Subtraction\n",
      "3. Multiplication\n",
      "4. Division\n",
      "Enter choice: 0\n",
      "Exiting!\n",
      "\n"
     ]
    }
   ],
   "source": [
    "#Ejercicio 5\n",
    "#Utilizando diferentes clases en python, crea una calculadora con los operadores básicos de suma, resta, multiplicación, división, y exponente.\n",
    "class cal():\n",
    "    def __init__(self,a,b):\n",
    "        self.a=a\n",
    "        self.b=b\n",
    "    def add(self):\n",
    "        return self.a+self.b\n",
    "    def mul(self):\n",
    "        return self.a*self.b\n",
    "    def div(self):\n",
    "        return self.a/self.b\n",
    "    def sub(self):\n",
    "        return self.a-self.b\n",
    "a=int(input(\"Enter first number: \"))\n",
    "b=int(input(\"Enter second number: \"))\n",
    "obj=cal(a,b)\n",
    "choice=1\n",
    "while choice!=0:\n",
    "    print(\"0. Exit\")\n",
    "    print(\"1. Add\")\n",
    "    print(\"2. Subtraction\")\n",
    "    print(\"3. Multiplication\")\n",
    "    print(\"4. Division\")\n",
    "    choice=int(input(\"Enter choice: \"))\n",
    "    if choice==1:\n",
    "        print(\"Result: \",obj.add())\n",
    "    elif choice==2:\n",
    "        print(\"Result: \",obj.sub())\n",
    "    elif choice==3:\n",
    "        print(\"Result: \",obj.mul())\n",
    "    elif choice==4:\n",
    "        print(\"Result: \",round(obj.div(),2))\n",
    "    elif choice==0:\n",
    "        print(\"Exiting!\")\n",
    "    else:\n",
    "        print(\"Invalid choice!!\")\n",
    " \n",
    " \n",
    "print()\n",
    "#Fuente: https://www.sanfoundry.com/python-program-class-performs-basic-calculator-operations/"
   ]
  },
  {
   "cell_type": "code",
   "execution_count": 18,
   "metadata": {},
   "outputs": [
    {
     "name": "stdout",
     "output_type": "stream",
     "text": [
      "el primer valor de la tupla es:  1\n",
      "el último valor de la tupla es:  6\n"
     ]
    }
   ],
   "source": [
    "#Crear una tupla con valores enteros imprimir el primer y ultimo valor.\n",
    "t=(1, 2, 3, 4, 5, 6)\n",
    "print (\"el primer valor de la tupla es: \", t[0])\n",
    "print (\"el último valor de la tupla es: \", t[5])"
   ]
  },
  {
   "cell_type": "code",
   "execution_count": 36,
   "metadata": {},
   "outputs": [
    {
     "name": "stdout",
     "output_type": "stream",
     "text": [
      "La variable a es de tipo:  <class 'int'>\n",
      "La variable b es de tipo:  <class 'float'>\n",
      "La variable c es de tipo:  <class 'complex'>\n",
      "La variable d es de tipo:  <class 'bool'>\n"
     ]
    }
   ],
   "source": [
    "#Crear una variable flotante, integer, boleana y compleja e imprimir el tipo de variable que es.\n",
    "a = 5\n",
    "b = 1.62\n",
    "c = 4 + 3j\n",
    "d = False\n",
    "print(\"La variable a es de tipo: \", type(a))\n",
    "print(\"La variable b es de tipo: \", type (b))\n",
    "print(\"La variable c es de tipo: \", type (c))\n",
    "print(\"La variable d es de tipo: \", type (d))"
   ]
  },
  {
   "cell_type": "code",
   "execution_count": 37,
   "metadata": {},
   "outputs": [
    {
     "ename": "AttributeError",
     "evalue": "'tuple' object has no attribute 'append'",
     "output_type": "error",
     "traceback": [
      "\u001b[1;31m---------------------------------------------------------------------------\u001b[0m",
      "\u001b[1;31mAttributeError\u001b[0m                            Traceback (most recent call last)",
      "\u001b[1;32m<ipython-input-37-9ea2a94352bb>\u001b[0m in \u001b[0;36m<module>\u001b[1;34m\u001b[0m\n\u001b[0;32m      1\u001b[0m \u001b[1;31m#Añadir 3 valores de string a la tupla.\u001b[0m\u001b[1;33m\u001b[0m\u001b[1;33m\u001b[0m\u001b[1;33m\u001b[0m\u001b[0m\n\u001b[0;32m      2\u001b[0m \u001b[0mt\u001b[0m\u001b[1;33m=\u001b[0m\u001b[1;33m(\u001b[0m\u001b[1;36m1\u001b[0m\u001b[1;33m,\u001b[0m \u001b[1;36m2\u001b[0m\u001b[1;33m,\u001b[0m \u001b[1;36m3\u001b[0m\u001b[1;33m,\u001b[0m \u001b[1;36m4\u001b[0m\u001b[1;33m,\u001b[0m \u001b[1;36m5\u001b[0m\u001b[1;33m,\u001b[0m \u001b[1;36m6\u001b[0m\u001b[1;33m)\u001b[0m\u001b[1;33m\u001b[0m\u001b[1;33m\u001b[0m\u001b[0m\n\u001b[1;32m----> 3\u001b[1;33m \u001b[0mt\u001b[0m\u001b[1;33m.\u001b[0m\u001b[0mappend\u001b[0m\u001b[1;33m(\u001b[0m\u001b[0muno\u001b[0m\u001b[1;33m)\u001b[0m\u001b[1;33m\u001b[0m\u001b[1;33m\u001b[0m\u001b[0m\n\u001b[0m",
      "\u001b[1;31mAttributeError\u001b[0m: 'tuple' object has no attribute 'append'"
     ]
    }
   ],
   "source": [
    "#Añadir 3 valores de string a la tupla.\n",
    "#No se puede"
   ]
  },
  {
   "cell_type": "code",
   "execution_count": 39,
   "metadata": {},
   "outputs": [
    {
     "name": "stdout",
     "output_type": "stream",
     "text": [
      "¿El 5 está en la tupla? True\n",
      "¿El 10 está en la tupla? False\n"
     ]
    }
   ],
   "source": [
    "#Verificar si una variable existe dentro de la tupla.\n",
    "t=(1, 2, 3, 4, 5, 6)\n",
    "print(\"¿El 5 está en la tupla?\", 5 in t)\n",
    "print(\"¿El 10 está en la tupla?\", 10 in t)"
   ]
  },
  {
   "cell_type": "code",
   "execution_count": 53,
   "metadata": {},
   "outputs": [
    {
     "name": "stdout",
     "output_type": "stream",
     "text": [
      "[1, 83, 29, 39, 10, 48, 25, 18, 96, 72, 29, 32, 59, 23, 13, 15, 2, 21, 90, 41, 18, 30, 34, 82, 39, 57, 52, 85, 29, 3, 68, 86, 45, 93, 41, 71, 16, 86, 52]\n"
     ]
    }
   ],
   "source": [
    "#Crear una lista con 40 elementos aleatorios enteros\n",
    "import random as r\n",
    "L = []\n",
    "for i in range (0,39):\n",
    "    L.append(r.randint(1, 100))\n",
    "print (L)"
   ]
  },
  {
   "cell_type": "code",
   "execution_count": 71,
   "metadata": {},
   "outputs": [
    {
     "name": "stdout",
     "output_type": "stream",
     "text": [
      "La lista de pares es:  [80, 40, 50, 88, 58, 80, 100, 24, 28, 50, 26, 2, 98, 50, 72, 44, 54, 78, 38, 24, 50, 4]\n",
      "La lista de impares es:  [83, 53, 17, 81, 75, 13, 59, 11, 25, 35, 83, 39, 17, 47, 9, 55, 7]\n",
      "[2, 4, 24, 24, 26, 28, 38, 40, 44, 50, 50, 50, 50, 54, 58, 72, 78, 80, 80, 88, 98, 100]\n",
      "[83, 83, 81, 75, 59, 55, 53, 47, 39, 35, 25, 17, 17, 13, 11, 9, 7]\n"
     ]
    }
   ],
   "source": [
    "#Creamos una lista de 40 elementos enteros aleatorios\n",
    "import random as r\n",
    "L = []\n",
    "for i in range (0,39):\n",
    "    L.append(r.randint(1, 100))\n",
    "\n",
    "#Definimos una funcion para reconocer los numeros pares e imprimimos la lista\n",
    "def num_pares(numeros):\n",
    "    pares = []\n",
    "    \n",
    "    for n in numeros:\n",
    "        if n % 2 == 0:\n",
    "            pares.append(n)\n",
    "            \n",
    "    return pares\n",
    "listapares = num_pares(L)\n",
    "\n",
    "#Hacemos lo mismo para impares\n",
    "def num_impares(numeros):\n",
    "    impares = []\n",
    "    \n",
    "    for n in numeros:\n",
    "        if n % 2 != 0:\n",
    "            impares.append(n)\n",
    "            \n",
    "    return impares\n",
    "listaimpares = num_impares(L)\n",
    "\n",
    "#Imprimimos ambas listas\n",
    "print (\"La lista de pares es: \", listapares)\n",
    "print (\"La lista de impares es: \", listaimpares)\n",
    "\n",
    "#Crear dos variables con la longitud de ambas listas nuevas e imprimir las variables.\n",
    "x=[]\n",
    "y=[]\n",
    "\n",
    "for i in range(0,len(listapares)):\n",
    "        x.append(listapares[i])\n",
    "    \n",
    "for i in range(0,len(listaimpares)):\n",
    "        y.append(listaimpares[i])\n",
    "\n",
    "#Ordenar pares de mayor a menor e impares de menor a mayor\n",
    "x.sort()\n",
    "y.sort(reverse=True)\n",
    "print(x)\n",
    "print(y)\n",
    "\n",
    "#"
   ]
  },
  {
   "cell_type": "code",
   "execution_count": 82,
   "metadata": {},
   "outputs": [
    {
     "name": "stdout",
     "output_type": "stream",
     "text": [
      "['Andres', 'Karime', 'Patricia', 'Jesús', 'Juan', 'Mauricio']\n",
      "\n",
      "['19', '20', '21', '22', '45', '47']\n",
      "\n",
      "['Andres', 'Karime', 'Patricia', 'Jesús', 'Juan', 'Mauricio']\n",
      "\n"
     ]
    },
    {
     "ename": "NameError",
     "evalue": "name 'Gonzalo' is not defined",
     "output_type": "error",
     "traceback": [
      "\u001b[1;31m---------------------------------------------------------------------------\u001b[0m",
      "\u001b[1;31mNameError\u001b[0m                                 Traceback (most recent call last)",
      "\u001b[1;32m<ipython-input-82-09fa1f80e9fe>\u001b[0m in \u001b[0;36m<module>\u001b[1;34m\u001b[0m\n\u001b[0;32m     22\u001b[0m \u001b[0mprint\u001b[0m\u001b[1;33m(\u001b[0m\u001b[1;33m)\u001b[0m\u001b[1;33m\u001b[0m\u001b[1;33m\u001b[0m\u001b[0m\n\u001b[0;32m     23\u001b[0m \u001b[1;31m#Añadir dos personas nuevas a tu diccionario, incluyendo edad.\u001b[0m\u001b[1;33m\u001b[0m\u001b[1;33m\u001b[0m\u001b[1;33m\u001b[0m\u001b[0m\n\u001b[1;32m---> 24\u001b[1;33m \u001b[0mdiccionario\u001b[0m\u001b[1;33m[\u001b[0m\u001b[1;34m\"edad\"\u001b[0m\u001b[1;33m]\u001b[0m\u001b[1;33m.\u001b[0m\u001b[0mappend\u001b[0m\u001b[1;33m(\u001b[0m\u001b[0mGonzalo\u001b[0m\u001b[1;33m)\u001b[0m\u001b[1;33m\u001b[0m\u001b[1;33m\u001b[0m\u001b[0m\n\u001b[0m\u001b[0;32m     25\u001b[0m \u001b[0mprint\u001b[0m\u001b[1;33m(\u001b[0m\u001b[0mdiccionario\u001b[0m\u001b[1;33m)\u001b[0m\u001b[1;33m\u001b[0m\u001b[1;33m\u001b[0m\u001b[0m\n",
      "\u001b[1;31mNameError\u001b[0m: name 'Gonzalo' is not defined"
     ]
    }
   ],
   "source": [
    "#Crear un diccionario de 6 personas que conozcas con su primer nombre y su edad.\n",
    "diccionario = {'nombre' : [\"Andres\",\"Karime\",\"Patricia\",\"Jesús\",\"Juan\",\"Mauricio\"], \"edad\" : [\"20\",\"19\",\"45\",\"47\",\"21\",\"22\"]}\n",
    "print(diccionario[\"nombre\"])\n",
    "\n",
    "print()\n",
    "#Crear una lista con los valores de la edad y reacomodar la lista de menor a mayor valor.\n",
    "x = []\n",
    "\n",
    "for i in range(0,6):\n",
    "    x.append(diccionario[\"edad\"][i])\n",
    "x.sort()\n",
    "print(x)\n",
    "\n",
    "print()\n",
    "#Usando el diccionario y un loop, imprimir solo los nombres.\n",
    "\n",
    "y = []\n",
    "for i in range(0,6):\n",
    "    y.append(diccionario[\"nombre\"][i])\n",
    "print(y)\n",
    "\n",
    "print()\n",
    "#Añadir dos personas nuevas a tu diccionario, incluyendo edad."
   ]
  },
  {
   "cell_type": "code",
   "execution_count": 106,
   "metadata": {},
   "outputs": [
    {
     "name": "stdout",
     "output_type": "stream",
     "text": [
      "{1, 2, 3, 4, 5, 6, 7, 8, 9, 10, 11, 12, 13, 14, 15, 16, 17, 18, 19, 20, 21, 22, 23, 24, 25}\n",
      "\n",
      "25\n",
      "\n",
      "[5, 25, 5, 21, 19]\n"
     ]
    }
   ],
   "source": [
    "#Crea un set con 100 numeros aleatorios enteros del 1 al 25\n",
    "import random as r\n",
    "L = []\n",
    "for i in range (0,100):\n",
    "    L.append(r.randint(1, 25))\n",
    "s = set(L)\n",
    "print(s)\n",
    "print()\n",
    "#Comprueba la longitud de tu set.\n",
    "\n",
    "\n",
    "print(len(s))\n",
    "print()\n",
    "\n",
    "#Crea una lista de 5 numeros aleatorios del 1 al 10 y comprueba si cada valor aparece en el set inicial.\n",
    "M = []\n",
    "for i in range (0,5):\n",
    "    M.append(r.randint(1, 25))\n",
    "print(M)"
   ]
  },
  {
   "cell_type": "code",
   "execution_count": null,
   "metadata": {},
   "outputs": [],
   "source": []
  }
 ],
 "metadata": {
  "kernelspec": {
   "display_name": "Python 3",
   "language": "python",
   "name": "python3"
  },
  "language_info": {
   "codemirror_mode": {
    "name": "ipython",
    "version": 3
   },
   "file_extension": ".py",
   "mimetype": "text/x-python",
   "name": "python",
   "nbconvert_exporter": "python",
   "pygments_lexer": "ipython3",
   "version": "3.8.5"
  }
 },
 "nbformat": 4,
 "nbformat_minor": 4
}
